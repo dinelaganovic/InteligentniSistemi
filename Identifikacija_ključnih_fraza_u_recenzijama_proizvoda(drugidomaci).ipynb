{
  "nbformat": 4,
  "nbformat_minor": 0,
  "metadata": {
    "colab": {
      "provenance": [],
      "authorship_tag": "ABX9TyNHaUh2RNtYxSMwYTIwcwIu",
      "include_colab_link": true
    },
    "kernelspec": {
      "name": "python3",
      "display_name": "Python 3"
    },
    "language_info": {
      "name": "python"
    }
  },
  "cells": [
    {
      "cell_type": "markdown",
      "metadata": {
        "id": "view-in-github",
        "colab_type": "text"
      },
      "source": [
        "<a href=\"https://colab.research.google.com/github/dinelaganovic/InteligentniSistemi/blob/master/Identifikacija_klju%C4%8Dnih_fraza_u_recenzijama_proizvoda(drugidomaci).ipynb\" target=\"_parent\"><img src=\"https://colab.research.google.com/assets/colab-badge.svg\" alt=\"Open In Colab\"/></a>"
      ]
    },
    {
      "cell_type": "code",
      "execution_count": 1,
      "metadata": {
        "colab": {
          "base_uri": "https://localhost:8080/"
        },
        "id": "GokhZbnc5yni",
        "outputId": "d4404b49-afea-4fd5-ae8b-bd17ca7bd19c"
      },
      "outputs": [
        {
          "output_type": "stream",
          "name": "stdout",
          "text": [
            "              business_id        date               review_id  stars  \\\n",
            "0  9yKzy9PApeiPPOUJEtnvkg  2011-01-26  fWKvX83p0-ka4JS3dc6E5A      5   \n",
            "1  ZRJwVLyzEJq1VAihDhYiow  2011-07-27  IjZ33sJrzXqU-0X6U8NwyA      5   \n",
            "2  6oRAC4uyJCsJl1X0WZpVSA  2012-06-14  IESLBzqUCLdSzSqm0eCSxQ      4   \n",
            "3  _1QQZuf4zZOyFCvXc0o6Vg  2010-05-27  G-WvGaISbqqaMHlNnByodA      5   \n",
            "4  6ozycU1RpktNG2-1BroVtw  2012-01-05  1uJFq2r5QfJG_6ExMRCaGw      5   \n",
            "\n",
            "                                                text    type  \\\n",
            "0  My wife took me here on my birthday for breakf...  review   \n",
            "1  I have no idea why some people give bad review...  review   \n",
            "2  love the gyro plate. Rice is so good and I als...  review   \n",
            "3  Rosie, Dakota, and I LOVE Chaparral Dog Park!!...  review   \n",
            "4  General Manager Scott Petello is a good egg!!!...  review   \n",
            "\n",
            "                  user_id  cool  useful  funny  \n",
            "0  rLtl8ZkDX5vH5nAx9C3q5Q     2       5      0  \n",
            "1  0a2KyEL0d3Yb1V6aivbIuQ     0       0      0  \n",
            "2  0hT2KtfLiobPvh6cDC8JQg     0       1      0  \n",
            "3  uZetl9T0NcROGOyFfughhg     1       2      0  \n",
            "4  vYmM4KTsC8ZfQBg-j5MWkw     0       0      0  \n"
          ]
        }
      ],
      "source": [
        "import pandas as pd\n",
        "\n",
        "# Učitavanje CSV fajla\n",
        "df = pd.read_csv(\"yelp.csv\")\n",
        "\n",
        "# Pregled prvih par redova\n",
        "print(df.head())\n",
        "\n",
        "# Selektuj tekstualno polje recenzija\n",
        "reviews = df['text'][:1000]  # Ograniči na 1000 recenzija radi brzine\n"
      ]
    },
    {
      "cell_type": "code",
      "source": [
        "import spacy # koristimo spacy za tokenizaciju i lematizaciju\n",
        "\n",
        "# Učitavanje spaCy modela\n",
        "nlp = spacy.load(\"en_core_web_sm\")\n",
        "\n",
        "# Funkcija za lematizaciju i čišćenje teksta\n",
        "def lemmatize_text(text):\n",
        "    doc = nlp(text)\n",
        "    return \" \".join([token.lemma_ for token in doc if not token.is_stop and not token.is_punct])\n",
        "\n",
        "# Primena lematizacije na sve recenzije\n",
        "lemmatized_reviews = [lemmatize_text(review) for review in reviews]\n",
        "\n",
        "# Prikaz lematizovanih recenzija\n",
        "print(lemmatized_reviews[:5])\n"
      ],
      "metadata": {
        "colab": {
          "base_uri": "https://localhost:8080/"
        },
        "id": "KxaSmh966aF2",
        "outputId": "3f1fb35c-cd5a-4b70-ef48-996d9a8e41fb"
      },
      "execution_count": 2,
      "outputs": [
        {
          "output_type": "stream",
          "name": "stdout",
          "text": [
            "['wife take birthday breakfast excellent   weather perfect sit outside overlook ground absolute pleasure   waitress excellent food arrive quickly semi busy Saturday morning   look like place fill pretty quickly early well \\n\\n favor Bloody Mary   phenomenal simply good   pretty sure use ingredient garden blend fresh order   amazing \\n\\n menu look excellent white truffle scramble eggs vegetable skillet tasty delicious   come 2 piece griddle bread amazing absolutely meal complete   good toast \\n\\n wait', 'idea people bad review place go probably gripe fault people like \\n\\n case friend arrive 5:50 pm past Sunday pretty crowded think Sunday evening think wait forever seat say seat girl come seat seat 5:52 waiter come get drink order pleasant host seat waiter server price good place order decide want 6:02 share baked spaghetti calzone small Beef pizza try calzone huge get small personal get small 11 pizza awesome friend like pizza well like calzone well calzone sweetish sauce like sauce \\n\\n box pizza home door 6:42 great like bad reviewer go   try thing bad reviewer issue', 'love gyro plate Rice good dig candy selection', 'Rosie Dakota love Chaparral Dog Park convenient surround lot path desert xeriscape baseball field ballpark lake duck \\n\\n Scottsdale Park Rec Dept wonderful job keep park clean shaded   find trash can poopy pick mitt locate park path \\n\\n fence area huge let dog run play sniff', 'General Manager Scott Petello good egg detail let assure issue albeit rare speak Scott treat guy respect state case surprised walk totally satisfied like mistake inevitable recover important \\n\\n thank Scott awesome staff get customer life ^']\n"
          ]
        }
      ]
    },
    {
      "cell_type": "code",
      "source": [
        "from spacy.matcher import PhraseMatcher #PhraseMatcher je koristan za identifikaciju specifičnih ključnih fraza\n",
        "\n",
        "# Kreiranje PhraseMatcher-a\n",
        "matcher = PhraseMatcher(nlp.vocab)\n",
        "key_phrases = [\"great service\", \"excellent food\", \"friendly staff\", \"high quality\"]\n",
        "patterns = [nlp.make_doc(phrase) for phrase in key_phrases]\n",
        "matcher.add(\"KeyPhrases\", patterns)\n",
        "\n",
        "# Pronalaženje podudaranja fraza\n",
        "for review in lemmatized_reviews[:10]:  # Provera za prvih 10 recenzija\n",
        "    doc = nlp(review)\n",
        "    matches = matcher(doc)\n",
        "    print(f\"Review: {review}\")\n",
        "    for match_id, start, end in matches:\n",
        "        print(f\"Matched Phrase: {doc[start:end]}\")\n"
      ],
      "metadata": {
        "colab": {
          "base_uri": "https://localhost:8080/"
        },
        "id": "mzZVMkkg6yh8",
        "outputId": "2c2adb00-9a64-4bf6-f31a-d57e6ea1a244"
      },
      "execution_count": 3,
      "outputs": [
        {
          "output_type": "stream",
          "name": "stdout",
          "text": [
            "Review: wife take birthday breakfast excellent   weather perfect sit outside overlook ground absolute pleasure   waitress excellent food arrive quickly semi busy Saturday morning   look like place fill pretty quickly early well \n",
            "\n",
            " favor Bloody Mary   phenomenal simply good   pretty sure use ingredient garden blend fresh order   amazing \n",
            "\n",
            " menu look excellent white truffle scramble eggs vegetable skillet tasty delicious   come 2 piece griddle bread amazing absolutely meal complete   good toast \n",
            "\n",
            " wait\n",
            "Matched Phrase: excellent food\n",
            "Review: idea people bad review place go probably gripe fault people like \n",
            "\n",
            " case friend arrive 5:50 pm past Sunday pretty crowded think Sunday evening think wait forever seat say seat girl come seat seat 5:52 waiter come get drink order pleasant host seat waiter server price good place order decide want 6:02 share baked spaghetti calzone small Beef pizza try calzone huge get small personal get small 11 pizza awesome friend like pizza well like calzone well calzone sweetish sauce like sauce \n",
            "\n",
            " box pizza home door 6:42 great like bad reviewer go   try thing bad reviewer issue\n",
            "Review: love gyro plate Rice good dig candy selection\n",
            "Review: Rosie Dakota love Chaparral Dog Park convenient surround lot path desert xeriscape baseball field ballpark lake duck \n",
            "\n",
            " Scottsdale Park Rec Dept wonderful job keep park clean shaded   find trash can poopy pick mitt locate park path \n",
            "\n",
            " fence area huge let dog run play sniff\n",
            "Review: General Manager Scott Petello good egg detail let assure issue albeit rare speak Scott treat guy respect state case surprised walk totally satisfied like mistake inevitable recover important \n",
            "\n",
            " thank Scott awesome staff get customer life ^\n",
            "Review: Quiessence simply beautiful   window earthy wooden wall feeling warmth inside restaurant perch middle farm   restaurant fairly Tuesday evening secure reservation couple day \n",
            "\n",
            " friend sample sandwich Farm Kitchen early week impressed want eat restaurant   crisp fresh veggie disappoint order salad orange grapefruit slice crudite start   good know like raw radish turnip try pesto aioli sauce \n",
            "\n",
            " entree order lamb friend order pork shoulder   Service start good trail quickly   wait food take long time couple seat receive finish entree receive bother explain situation maitre'd apologize 45 minute later   apparently chef unhappy sauce entree start anew   problem communicate early   trouble compe glass wine order forget bring entree   request   offer bread echo lady whisper way ask bread   receive warm foccacia apple walnut pomegranate slice wonder honey butter   YUM \n",
            "\n",
            " entree solid live innovation freshness vegetable   lamb sauce delicious meat tough   maybe vegetarian entree way   dessert gingerbread pear cake winner \n",
            "\n",
            " entree tad inspire service spotty place definitely warrant star   return like try 75 $ taste menu   bill come 100 $ people include tip drink\n",
            "Review: drop drive eat day   food good \n",
            "\n",
            " cute little green building go competely unotice drive Palm Rd avoid construction   wait turn 16th Street Grand Opening sign catch eye little yelping soul leap joy   new place try \n",
            "\n",
            " look desolate outside open door easy decor smell cleanliness inside   order dinner   menu awesome   love see variety poblano pepper mole mahi mahi mushroom wrap banana leave   difficult choose   far La Condesa Shrimp Burro Baja Sur Dogfish Shark Taco   delicious meal shrimp burro steal   flavor   snag bite hubbys mole mahi mahi burros- mmmm delight   salsa bar endless   stock   excited try strawberry salsa hot fact big wimp come hot pepper horchata handmade delicious   throw pecan fruit yummy bonus \n",
            "\n",
            " good food win art restaurant sho   sucker mexican folk art Frida Kahlo Oprah   painting Diego hang salsa bar amazing   painting great love artist\n",
            "Review: luckily travel far connect flight thank Phoenix \n",
            "\n",
            " brief layover pleasant employee kind flight time   hopefully time grace Phoenix presence little long\n",
            "Review: definitely come happy hour price amazing sake bomber $ 3 great atmosphere wait staff incredibly nice right need ask thing spot place get crowd evening especially plan sit outside wish Apollo Beach Brandon\n",
            "Review: Nobuo show unique talent menu carefully craft feature drink start pork belly bun stout long\n"
          ]
        }
      ]
    },
    {
      "cell_type": "code",
      "source": [
        "#Identifikujemo N-gramove i analiziramo njihovu učestalost\n",
        "from sklearn.feature_extraction.text import CountVectorizer\n",
        "\n",
        "# Kreiranje bigrama i trigrama\n",
        "vectorizer = CountVectorizer(ngram_range=(2, 3), stop_words=\"english\")\n",
        "ngrams = vectorizer.fit_transform(lemmatized_reviews)\n",
        "ngram_freq = pd.DataFrame(ngrams.toarray(), columns=vectorizer.get_feature_names_out())\n",
        "\n",
        "# Prikaz najčešćih fraza\n",
        "top_phrases = ngram_freq.sum().sort_values(ascending=False).head(10)\n",
        "print(\"Top 10 ključnih fraza:\")\n",
        "print(top_phrases)\n"
      ],
      "metadata": {
        "colab": {
          "base_uri": "https://localhost:8080/"
        },
        "id": "Wp7-c3D47A3r",
        "outputId": "d736c114-d3be-44de-991e-512751e09fa9"
      },
      "execution_count": 4,
      "outputs": [
        {
          "output_type": "stream",
          "name": "stdout",
          "text": [
            "Top 10 ključnih fraza:\n",
            "happy hour          56\n",
            "feel like           53\n",
            "pretty good         42\n",
            "food good           35\n",
            "good food           33\n",
            "look like           33\n",
            "great place         31\n",
            "love place          30\n",
            "ice cream           28\n",
            "highly recommend    27\n",
            "dtype: int64\n"
          ]
        }
      ]
    },
    {
      "cell_type": "code",
      "source": [
        "#Analiza učestalosti i evaluacija\n",
        "#Pravimo grafikon učestalosti fraza\n",
        "#Na kraju se dobija\n",
        "\n",
        "#Lista ključnih fraza: Fraze koje se najčešće ponavljaju.\n",
        "#Učestalost fraza: Statistički pregled najčešće korišćenih fraza.\n",
        "#Vizualizacija: Grafički prikaz najvažnijih fraza.\n",
        "import matplotlib.pyplot as plt\n",
        "\n",
        "# Prikaz grafikona\n",
        "top_phrases.plot(kind='bar', title='Top Key Phrases in Yelp Reviews')\n",
        "plt.xlabel('Key Phrases')\n",
        "plt.ylabel('Frequency')\n",
        "plt.show()\n"
      ],
      "metadata": {
        "colab": {
          "base_uri": "https://localhost:8080/",
          "height": 588
        },
        "id": "fbxe13eU7H3q",
        "outputId": "3d420706-b382-4b4b-f5ee-4303d88b4396"
      },
      "execution_count": 5,
      "outputs": [
        {
          "output_type": "display_data",
          "data": {
            "text/plain": [
              "<Figure size 640x480 with 1 Axes>"
            ],
            "image/png": "[encoded data removed]"
          },
          "metadata": {}
        }
      ]
    }
  ]
}